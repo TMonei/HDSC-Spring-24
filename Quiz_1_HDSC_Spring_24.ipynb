{
  "nbformat": 4,
  "nbformat_minor": 0,
  "metadata": {
    "colab": {
      "provenance": []
    },
    "kernelspec": {
      "name": "python3",
      "display_name": "Python 3"
    },
    "language_info": {
      "name": "python"
    }
  },
  "cells": [
    {
      "cell_type": "code",
      "execution_count": null,
      "metadata": {
        "colab": {
          "base_uri": "https://localhost:8080/"
        },
        "id": "18Fbe0tsXFfD",
        "outputId": "c0b92934-feb5-4a53-990f-8186744cc2bb"
      },
      "outputs": [
        {
          "output_type": "execute_result",
          "data": {
            "text/plain": [
              "(60943, 12)"
            ]
          },
          "metadata": {},
          "execution_count": 53
        }
      ],
      "source": [
        "from google.colab import files\n",
        "uploaded = files.upload()\n",
        "\n",
        "import io\n",
        "import pandas as pd\n",
        "\n",
        "df = pd.read_csv(\"FoodBalanceSheets_E_Africa_NOFLAG.csv\",encoding = 'latin-1')\n",
        "df.head()\n",
        "\n",
        "#Question 1\n",
        "my_tuppy = (1,2,5,8)\n",
        "my_tuppy[2] = 6\n",
        "#the code gives a type error\n",
        "\n",
        "#Question 2\n",
        "df.groupby('Element').Y2017.sum()\n",
        "\n",
        "#Question 3\n",
        "area = df.groupby('Area').Y2017.sum()\n",
        "area.sort_values()\n",
        "#Guinea-Bissau has the 7th Lowest Sum\n",
        "\n",
        "#Question 4\n",
        "df.isnull().sum()\n",
        "#1589/60943 * 100 = 2.6%\n",
        "\n",
        "#Question 5\n",
        "lst = [[35,'Portugal',94],[33,'Argentina',93],[30,'Brazil',92]]\n",
        "col = ['Age','Nationality','Overall']\n",
        "pd.DataFrame(lst,columns = col, index = [i for i in range(1,4)] )\n",
        "\n",
        "#Question 6\n",
        "y = [(2,4),(7,8),(1,5,9)]\n",
        "\n",
        "y[1][1]\n",
        "y[1][-2]\n",
        "y[1][-1]\n",
        "y[2][-1]\n",
        "\n",
        "#Question 7\n",
        "df.Y2017.describe()\n",
        "\n",
        "#Question 8\n",
        "area1 = df.groupby('Area').Y2017.sum()\n",
        "area1.sort_values()\n",
        "\n",
        "#Question 9\n",
        "df.groupby('Item').Y2015.sum()\n",
        "df.groupby('Item').Y2018.sum()\n",
        "\n",
        "#Question 10\n",
        "df.groupby('Element').Y2017.sum()\n",
        "\n",
        "#Question 12\n",
        "S = [['him', 'sell'], [90, 28, 43]]\n",
        "S[0][1][1]\n",
        "\n",
        "#Question 16\n",
        "df.groupby('Element').sum()\n",
        "\n",
        "#Question 17\n",
        "countries = df.groupby('Area').count()\n",
        "countries.shape\n",
        "\n",
        "#Question 18\n",
        "df.groupby(['Area','Element']).Y2015.sum()\n",
        "\n",
        "#Question 19\n",
        "array = ([[94,89,63],\n",
        "          [93,92,48],\n",
        "          [92,94,56]])\n",
        "array[:2,0:]\n",
        "array[:1,1:]\n",
        "array[1:,:]\n",
        "array[:1,1:]\n",
        "array[:2,1:]\n",
        "#TypeError\n",
        "\n",
        "#Question 20\n",
        "df.shape\n"
      ]
    }
  ]
}